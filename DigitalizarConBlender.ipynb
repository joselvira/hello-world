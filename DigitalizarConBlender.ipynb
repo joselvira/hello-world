{
 "cells": [
  {
   "cell_type": "markdown",
   "metadata": {},
   "source": [
    "# Cómo digitalizar vídeos con Blender"
   ]
  },
  {
   "cell_type": "markdown",
   "metadata": {},
   "source": [
    "Blender es un programa de animación 3D con múltiples posibilidades. Una de ellas es que dispone de una herramienta de tracking o digitalización de puntos de forma automática que funciona muy bien. Se pueden exportar archivos con las coordenadasde los marcadores digitalizados y utilizarlos para calcular los parámetros DLT y obtener coordenadas reales."
   ]
  },
  {
   "cell_type": "markdown",
   "metadata": {},
   "source": [
    "Marco de calibración:\n",
    "Si están separados en varios vídeos, juntarlos en uno mismo con VirtualDub (si no, supongo que también se podría digitalizar por separado y juntar después con software).\n",
    "\n",
    "En Blender, entrar en el modo Motion Tracking. Abrir el vídeo. Crear marcadores (botón Add a la izquierda), nombrarlos e ir realizando el tracking.\n",
    "\n",
    "Una vez terminada la digitalización, meterse en el modo Scripting. Abrir el script de Python \n",
    "F:\\Programas\\Biomecanica\\AnalisisImagen\\Blender\\PruebaTrackMarcadores\\ExportarCoordenadasMarcadores-Adaptado.py\n"
   ]
  },
  {
   "cell_type": "markdown",
   "metadata": {},
   "source": [
    "A continuación se incluye el script que se debe ejecutar desde el propio Blender:"
   ]
  },
  {
   "cell_type": "code",
   "execution_count": null,
   "metadata": {},
   "outputs": [],
   "source": [
    "\"\"\"\n",
    "Exporta las coordenadas de marcadores digitalizados con Blender\n",
    "Hay que ejecutarlo desde el editor Scripting de Blender con el vídeo digitalizado abierto.\n",
    "Jose Luis Lpoez Elvira\n",
    "Fecha: 21/05/2018\n",
    "\n",
    "Adaptado de :\n",
    "# http://scummos.blogspot.cz/2012/11/blender-exporting-camera-tracking.html\n",
    "# https://gist.github.com/anonymous/31c915d611f0a84e5d33\n",
    "\"\"\"\n",
    "\n",
    "from __future__ import print_function\n",
    "import bpy\n",
    "import numpy as np\n",
    "\n",
    "D = bpy.data\n",
    "\n",
    "unidadDisco = 'F:'\n",
    "carpetaOriginal = r'\\Programas\\Biomecanica\\AnalisisImagen\\Blender\\PruebaTrackMarcadores'\n",
    "\n",
    "frameNums = True  # incluye num frames en el archivo\n",
    "relativeCoords = False  # marker coords will be relative to the dimensions of the clip\n",
    "\n",
    "#CARGA LOS DATOS DE COORDENADAS\n",
    "for clip in D.movieclips:\n",
    "    print('\\nProcesando video {}'.format(clip.name))\n",
    "    \n",
    "    markers = {}\n",
    "    marcadores = {} #guarda los datos de cada marcador\n",
    "    nomMarcadores = []\n",
    "    nomVideo = clip.name.split('.')[0]\n",
    "    \n",
    "    if relativeCoords:\n",
    "        width = 1\n",
    "        height = 1\n",
    "    else:\n",
    "        width = clip.size[0]\n",
    "        height = clip.size[1]\n",
    "    for ob in clip.tracking.objects:\n",
    "        print('Procesando objeto {}'.format(ob.name))\n",
    "        \n",
    "        for track in ob.tracks:\n",
    "            fn = '{}_{}_{}'.format(clip.name.split('.')[0], ob.name, track.name)\n",
    "            markers[fn] = []\n",
    "            marcadores[track.name] = []\n",
    "            print('Marcador {} encontrado'.format(track.name))\n",
    "            nomMarcadores.append(track.name)\n",
    "            for framenum in range(clip.frame_duration):\n",
    "                markerAtFrame = track.markers.find_frame(framenum)\n",
    "                if markerAtFrame:\n",
    "                    coords = list(markerAtFrame.co.xy)\n",
    "                    coords = [coords[0] * width, coords[1] * height]\n",
    "                    markers[fn].append(coords)\n",
    "                    marcadores[track.name].append(coords)\n",
    "                else: #si no está digitalizado este fotograma, lo deja en blanco. Es necesario para que no meta todas las filas juntas saltando huecos.\n",
    "                    markers[fn].append(['', ''])\n",
    "                    marcadores[track.name].append(['', ''])\n",
    "                         \n",
    "            \n",
    "    #nomMarcadores=list(marcadores.keys())\n",
    "    \n",
    "    #print(len(marcadores), len(marcadores[nomMarcadores[0]]))\n",
    "    #print(marcadores[nomMarcadores[0]])\n",
    "\n",
    "    ##############################\n",
    "    #ESCRIBE LOS DATOS DE TODOS LOS MARCADORES EN UN MISMO ARCHIVO\n",
    "    print(len(marcadores))\n",
    "    if len(marcadores) !=0:\n",
    "        print('\\nEscribiendo datos...')\n",
    "        nombreArchivo= unidadDisco+carpetaOriginal + '\\\\'+nomVideo+ '_Marcadores.csv'\n",
    "        with open(nombreArchivo, 'w', newline='') as writer:\n",
    "            #Escribe el encabezado\n",
    "            encabezado=''\n",
    "            if frameNums: encabezado+='frame,'\n",
    "            for h in range(len(marcadores)):\n",
    "                encabezado+='{},{},'.format(str(nomMarcadores[h])+'_x', str(nomMarcadores[h])+'_y')\n",
    "                print('Marcador{}, con {} frames.'.format(nomMarcadores[h], len(marcadores[nomMarcadores[h]])))\n",
    "            writer.write(encabezado[:-1]+'\\n')\n",
    "            \n",
    "            #Escribe las coordenadas\n",
    "            for i in range(len(marcadores[nomMarcadores[0]])):\n",
    "                linea=''\n",
    "                if frameNums: linea+=str(i)+','\n",
    "                for h in nomMarcadores:\n",
    "                    coordx=marcadores[h][i][0]\n",
    "                    coordy=marcadores[h][i][1]\n",
    "                    linea+='{},{},'.format(coordx, coordy)        \n",
    "                writer.write(linea[:-1]+'\\n')\n",
    "            \n",
    "        print('Terminado', nomVideo)            \n",
    "    else:\n",
    "        print('\\nEl video {} no tiene marcadores.'.format(nomVideo))"
   ]
  },
  {
   "cell_type": "markdown",
   "metadata": {},
   "source": [
    "## Cálculo de la DLT"
   ]
  },
  {
   "cell_type": "markdown",
   "metadata": {},
   "source": [
    "Una vez tenemos los vídeos digitalizados y los archivos de las coordenadas exportados, procedemos a realizar los cálculos con Python, ya fuera del entorno Blender."
   ]
  },
  {
   "cell_type": "markdown",
   "metadata": {},
   "source": [
    "En primer lugar, importamos los módulos que necesitaremos. También importamos la función para el cálculo DLT (función de Duarte, a partir de https://www.mail-archive.com/floatcanvas@mithis.com/msg00513.html) "
   ]
  },
  {
   "cell_type": "code",
   "execution_count": 81,
   "metadata": {},
   "outputs": [],
   "source": [
    "import numpy as np\n",
    "import pandas as pd\n",
    "import matplotlib.pyplot as plt\n",
    "\n",
    "unidadDisco = 'F:' #para facilitar la portabilidad\n",
    "\n",
    "import sys\n",
    "sys.path.insert(1, unidadDisco + r'\\Programacion\\Python\\Mios\\Functions') #acceso a la carpeta donde tenemos el archivo dlt.py con las funciones necesarias\n",
    "from dlt import DLTcalib, DLTrecon\n"
   ]
  },
  {
   "cell_type": "markdown",
   "metadata": {},
   "source": [
    "Ajustamos los nombres de la carpeta donde se encuentran los archivos a tratar."
   ]
  },
  {
   "cell_type": "code",
   "execution_count": 82,
   "metadata": {},
   "outputs": [],
   "source": [
    "carpetaOriginal = r'\\Programas\\Biomecanica\\AnalisisImagen\\Blender\\PruebaTrackMarcadores'\n",
    "nomArchMCReal = '\\Salto-MCReal.csv' #archivo con las coordenadas reales del marco de calibración\n",
    "nomArchMCDigit = '\\MCCompleto_Marcadores.csv' #archivo con las coordenadas digitalizadas del marco de calibración\n",
    "nomMarcadoresDigit = '\\CIMG1187_Marcadores.csv' #archivo con las coordenadas digitalizadas de los marcadores\n",
    "separador= ','"
   ]
  },
  {
   "cell_type": "markdown",
   "metadata": {},
   "source": [
    "Cargamos el archivo con las coordenadas reales de marco de calibración."
   ]
  },
  {
   "cell_type": "code",
   "execution_count": 83,
   "metadata": {},
   "outputs": [],
   "source": [
    "MCReal = pd.read_table(unidadDisco+carpetaOriginal+nomArchMCReal, sep=separador) #con values lo pasa directamente a array de numpy"
   ]
  },
  {
   "cell_type": "markdown",
   "metadata": {},
   "source": [
    "El archivo tiene esta estructura:"
   ]
  },
  {
   "cell_type": "code",
   "execution_count": 84,
   "metadata": {},
   "outputs": [
    {
     "data": {
      "text/html": [
       "<div>\n",
       "<style scoped>\n",
       "    .dataframe tbody tr th:only-of-type {\n",
       "        vertical-align: middle;\n",
       "    }\n",
       "\n",
       "    .dataframe tbody tr th {\n",
       "        vertical-align: top;\n",
       "    }\n",
       "\n",
       "    .dataframe thead th {\n",
       "        text-align: right;\n",
       "    }\n",
       "</style>\n",
       "<table border=\"1\" class=\"dataframe\">\n",
       "  <thead>\n",
       "    <tr style=\"text-align: right;\">\n",
       "      <th></th>\n",
       "      <th>x</th>\n",
       "      <th>y</th>\n",
       "    </tr>\n",
       "  </thead>\n",
       "  <tbody>\n",
       "    <tr>\n",
       "      <th>0</th>\n",
       "      <td>0</td>\n",
       "      <td>0</td>\n",
       "    </tr>\n",
       "    <tr>\n",
       "      <th>1</th>\n",
       "      <td>0</td>\n",
       "      <td>100</td>\n",
       "    </tr>\n",
       "    <tr>\n",
       "      <th>2</th>\n",
       "      <td>40</td>\n",
       "      <td>0</td>\n",
       "    </tr>\n",
       "    <tr>\n",
       "      <th>3</th>\n",
       "      <td>40</td>\n",
       "      <td>100</td>\n",
       "    </tr>\n",
       "  </tbody>\n",
       "</table>\n",
       "</div>"
      ],
      "text/plain": [
       "    x    y\n",
       "0   0    0\n",
       "1   0  100\n",
       "2  40    0\n",
       "3  40  100"
      ]
     },
     "execution_count": 84,
     "metadata": {},
     "output_type": "execute_result"
    }
   ],
   "source": [
    "MCReal"
   ]
  },
  {
   "cell_type": "markdown",
   "metadata": {},
   "source": [
    "Para funcionar con las funciones del DLT necesitamos solo el array numpy, por lo que es mejor cargarlo de esta forma:"
   ]
  },
  {
   "cell_type": "code",
   "execution_count": 85,
   "metadata": {},
   "outputs": [
    {
     "data": {
      "text/plain": [
       "array([[  0,   0],\n",
       "       [  0, 100],\n",
       "       [ 40,   0],\n",
       "       [ 40, 100]], dtype=int64)"
      ]
     },
     "execution_count": 85,
     "metadata": {},
     "output_type": "execute_result"
    }
   ],
   "source": [
    "MCReal = pd.read_table(unidadDisco+carpetaOriginal+nomArchMCReal, sep=separador).values #con values lo pasa directamente a array de numpy\n",
    "MCReal"
   ]
  },
  {
   "cell_type": "markdown",
   "metadata": {},
   "source": [
    "Para visualizar el marco de calibración."
   ]
  },
  {
   "cell_type": "code",
   "execution_count": 86,
   "metadata": {},
   "outputs": [
    {
     "data": {
      "image/png": "[encoded data removed]",
      "text/plain": [
       "<Figure size 432x288 with 1 Axes>"
      ]
     },
     "metadata": {},
     "output_type": "display_data"
    }
   ],
   "source": [
    "plt.plot(MCReal[:,0], MCReal[:,1], 'bo')\n",
    "plt.show()"
   ]
  },
  {
   "cell_type": "markdown",
   "metadata": {},
   "source": [
    "Cargamos el archivo con las coordenadas digitalizadas del marco de calibración. Lo hacemos en varios pasos."
   ]
  },
  {
   "cell_type": "code",
   "execution_count": 87,
   "metadata": {},
   "outputs": [],
   "source": [
    "MCDigit = pd.read_table(unidadDisco+carpetaOriginal+nomArchMCDigit, header= 0, sep=separador, na_values=[' ']) #este sin values para que haga fácil las conversiones"
   ]
  },
  {
   "cell_type": "markdown",
   "metadata": {},
   "source": [
    "Normalmente en los archivos del marco de calibración se digitalizan solo unos pocos fotogramas por marcador, por lo que el archivo está lleno de valores vacíos. Para ver solo las coordenadas, podemos eliminar los valores nan (not a number). Aunque esto no es necesario porque a continuación calcularemos la media de cada marcadore en los fotogramas digitalizados."
   ]
  },
  {
   "cell_type": "code",
   "execution_count": 88,
   "metadata": {},
   "outputs": [
    {
     "data": {
      "text/html": [
       "<div>\n",
       "<style scoped>\n",
       "    .dataframe tbody tr th:only-of-type {\n",
       "        vertical-align: middle;\n",
       "    }\n",
       "\n",
       "    .dataframe tbody tr th {\n",
       "        vertical-align: top;\n",
       "    }\n",
       "\n",
       "    .dataframe thead th {\n",
       "        text-align: right;\n",
       "    }\n",
       "</style>\n",
       "<table border=\"1\" class=\"dataframe\">\n",
       "  <thead>\n",
       "    <tr style=\"text-align: right;\">\n",
       "      <th></th>\n",
       "      <th>InfIzq_x</th>\n",
       "      <th>InfIzq_y</th>\n",
       "      <th>SupIzq_x</th>\n",
       "      <th>SupIzq_y</th>\n",
       "      <th>InfDer_x</th>\n",
       "      <th>InfDer_y</th>\n",
       "      <th>SupDer_x</th>\n",
       "      <th>SupDer_y</th>\n",
       "    </tr>\n",
       "  </thead>\n",
       "  <tbody>\n",
       "    <tr>\n",
       "      <th>398</th>\n",
       "      <td>207.256989</td>\n",
       "      <td>17.638893</td>\n",
       "      <td>204.107178</td>\n",
       "      <td>336.398872</td>\n",
       "      <td>NaN</td>\n",
       "      <td>NaN</td>\n",
       "      <td>NaN</td>\n",
       "      <td>NaN</td>\n",
       "    </tr>\n",
       "    <tr>\n",
       "      <th>400</th>\n",
       "      <td>207.550690</td>\n",
       "      <td>19.553613</td>\n",
       "      <td>NaN</td>\n",
       "      <td>NaN</td>\n",
       "      <td>NaN</td>\n",
       "      <td>NaN</td>\n",
       "      <td>NaN</td>\n",
       "      <td>NaN</td>\n",
       "    </tr>\n",
       "    <tr>\n",
       "      <th>401</th>\n",
       "      <td>207.550690</td>\n",
       "      <td>19.306552</td>\n",
       "      <td>NaN</td>\n",
       "      <td>NaN</td>\n",
       "      <td>NaN</td>\n",
       "      <td>NaN</td>\n",
       "      <td>NaN</td>\n",
       "      <td>NaN</td>\n",
       "    </tr>\n",
       "    <tr>\n",
       "      <th>433</th>\n",
       "      <td>207.110138</td>\n",
       "      <td>19.306552</td>\n",
       "      <td>NaN</td>\n",
       "      <td>NaN</td>\n",
       "      <td>NaN</td>\n",
       "      <td>NaN</td>\n",
       "      <td>NaN</td>\n",
       "      <td>NaN</td>\n",
       "    </tr>\n",
       "    <tr>\n",
       "      <th>602</th>\n",
       "      <td>NaN</td>\n",
       "      <td>NaN</td>\n",
       "      <td>NaN</td>\n",
       "      <td>NaN</td>\n",
       "      <td>311.830414</td>\n",
       "      <td>19.371284</td>\n",
       "      <td>308.995575</td>\n",
       "      <td>335.926392</td>\n",
       "    </tr>\n",
       "    <tr>\n",
       "      <th>603</th>\n",
       "      <td>NaN</td>\n",
       "      <td>NaN</td>\n",
       "      <td>NaN</td>\n",
       "      <td>NaN</td>\n",
       "      <td>311.830414</td>\n",
       "      <td>19.433048</td>\n",
       "      <td>309.582977</td>\n",
       "      <td>336.049919</td>\n",
       "    </tr>\n",
       "    <tr>\n",
       "      <th>604</th>\n",
       "      <td>NaN</td>\n",
       "      <td>NaN</td>\n",
       "      <td>NaN</td>\n",
       "      <td>NaN</td>\n",
       "      <td>311.830414</td>\n",
       "      <td>19.433048</td>\n",
       "      <td>NaN</td>\n",
       "      <td>NaN</td>\n",
       "    </tr>\n",
       "  </tbody>\n",
       "</table>\n",
       "</div>"
      ],
      "text/plain": [
       "       InfIzq_x   InfIzq_y    SupIzq_x    SupIzq_y    InfDer_x   InfDer_y  \\\n",
       "398  207.256989  17.638893  204.107178  336.398872         NaN        NaN   \n",
       "400  207.550690  19.553613         NaN         NaN         NaN        NaN   \n",
       "401  207.550690  19.306552         NaN         NaN         NaN        NaN   \n",
       "433  207.110138  19.306552         NaN         NaN         NaN        NaN   \n",
       "602         NaN        NaN         NaN         NaN  311.830414  19.371284   \n",
       "603         NaN        NaN         NaN         NaN  311.830414  19.433048   \n",
       "604         NaN        NaN         NaN         NaN  311.830414  19.433048   \n",
       "\n",
       "       SupDer_x    SupDer_y  \n",
       "398         NaN         NaN  \n",
       "400         NaN         NaN  \n",
       "401         NaN         NaN  \n",
       "433         NaN         NaN  \n",
       "602  308.995575  335.926392  \n",
       "603  309.582977  336.049919  \n",
       "604         NaN         NaN  "
      ]
     },
     "execution_count": 88,
     "metadata": {},
     "output_type": "execute_result"
    }
   ],
   "source": [
    "MCDigit.iloc[:, 1:].dropna(how='all')"
   ]
  },
  {
   "cell_type": "markdown",
   "metadata": {},
   "source": [
    "Se calcula el promedio de cada marcador en todos los fotogramas en los que se haya digitalizado y se ordena para que quede con estructura de los marcadores en filas y las coordenadas x e y en columnas."
   ]
  },
  {
   "cell_type": "code",
   "execution_count": 89,
   "metadata": {},
   "outputs": [],
   "source": [
    "#hay que transformar la estructura de filas-frames, columnas marcadores con x e y, a filas-marcadores, columnas x e y\n",
    "MCDigit = MCDigit.iloc[:, 1:].mean().T #quita columna frames, hace media de cada columna y la transpone\n",
    "MCDigit =np.asarray([MCDigit[::2], MCDigit[1::2]]).T #mete en un array las medias de x y de y y las transpone"
   ]
  },
  {
   "cell_type": "markdown",
   "metadata": {},
   "source": [
    "El archivo tiene esta estructura:"
   ]
  },
  {
   "cell_type": "code",
   "execution_count": 90,
   "metadata": {},
   "outputs": [
    {
     "data": {
      "text/plain": [
       "array([[ 207.36712646,   18.95140243],\n",
       "       [ 204.10717773,  336.39887238],\n",
       "       [ 311.83041382,   19.41245985],\n",
       "       [ 309.28927612,  335.98815536]])"
      ]
     },
     "execution_count": 90,
     "metadata": {},
     "output_type": "execute_result"
    }
   ],
   "source": [
    "MCDigit"
   ]
  },
  {
   "cell_type": "markdown",
   "metadata": {},
   "source": [
    "Finalmente se cargan las coordenadas de los marcadores digitalizados. Posiblemente los primeros fotogramas salgan vacíos de datos, esto es porque las digitalizaciones empiezan más tarde."
   ]
  },
  {
   "cell_type": "code",
   "execution_count": 91,
   "metadata": {},
   "outputs": [
    {
     "data": {
      "text/html": [
       "<div>\n",
       "<style scoped>\n",
       "    .dataframe tbody tr th:only-of-type {\n",
       "        vertical-align: middle;\n",
       "    }\n",
       "\n",
       "    .dataframe tbody tr th {\n",
       "        vertical-align: top;\n",
       "    }\n",
       "\n",
       "    .dataframe thead th {\n",
       "        text-align: right;\n",
       "    }\n",
       "</style>\n",
       "<table border=\"1\" class=\"dataframe\">\n",
       "  <thead>\n",
       "    <tr style=\"text-align: right;\">\n",
       "      <th></th>\n",
       "      <th>frame</th>\n",
       "      <th>Cadera_x</th>\n",
       "      <th>Cadera_y</th>\n",
       "      <th>Rodilla_x</th>\n",
       "      <th>Rodilla_y</th>\n",
       "      <th>Tobillo_x</th>\n",
       "      <th>Tobillo_y</th>\n",
       "      <th>Talon_x</th>\n",
       "      <th>Talon_y</th>\n",
       "      <th>Meta_x</th>\n",
       "      <th>Meta_y</th>\n",
       "    </tr>\n",
       "  </thead>\n",
       "  <tbody>\n",
       "    <tr>\n",
       "      <th>0</th>\n",
       "      <td>0</td>\n",
       "      <td>NaN</td>\n",
       "      <td>NaN</td>\n",
       "      <td>NaN</td>\n",
       "      <td>NaN</td>\n",
       "      <td>NaN</td>\n",
       "      <td>NaN</td>\n",
       "      <td>NaN</td>\n",
       "      <td>NaN</td>\n",
       "      <td>NaN</td>\n",
       "      <td>NaN</td>\n",
       "    </tr>\n",
       "    <tr>\n",
       "      <th>1</th>\n",
       "      <td>1</td>\n",
       "      <td>NaN</td>\n",
       "      <td>NaN</td>\n",
       "      <td>NaN</td>\n",
       "      <td>NaN</td>\n",
       "      <td>NaN</td>\n",
       "      <td>NaN</td>\n",
       "      <td>NaN</td>\n",
       "      <td>NaN</td>\n",
       "      <td>NaN</td>\n",
       "      <td>NaN</td>\n",
       "    </tr>\n",
       "    <tr>\n",
       "      <th>2</th>\n",
       "      <td>2</td>\n",
       "      <td>NaN</td>\n",
       "      <td>NaN</td>\n",
       "      <td>NaN</td>\n",
       "      <td>NaN</td>\n",
       "      <td>NaN</td>\n",
       "      <td>NaN</td>\n",
       "      <td>NaN</td>\n",
       "      <td>NaN</td>\n",
       "      <td>NaN</td>\n",
       "      <td>NaN</td>\n",
       "    </tr>\n",
       "    <tr>\n",
       "      <th>3</th>\n",
       "      <td>3</td>\n",
       "      <td>NaN</td>\n",
       "      <td>NaN</td>\n",
       "      <td>NaN</td>\n",
       "      <td>NaN</td>\n",
       "      <td>NaN</td>\n",
       "      <td>NaN</td>\n",
       "      <td>NaN</td>\n",
       "      <td>NaN</td>\n",
       "      <td>NaN</td>\n",
       "      <td>NaN</td>\n",
       "    </tr>\n",
       "    <tr>\n",
       "      <th>4</th>\n",
       "      <td>4</td>\n",
       "      <td>NaN</td>\n",
       "      <td>NaN</td>\n",
       "      <td>NaN</td>\n",
       "      <td>NaN</td>\n",
       "      <td>NaN</td>\n",
       "      <td>NaN</td>\n",
       "      <td>NaN</td>\n",
       "      <td>NaN</td>\n",
       "      <td>NaN</td>\n",
       "      <td>NaN</td>\n",
       "    </tr>\n",
       "  </tbody>\n",
       "</table>\n",
       "</div>"
      ],
      "text/plain": [
       "   frame  Cadera_x  Cadera_y  Rodilla_x  Rodilla_y  Tobillo_x  Tobillo_y  \\\n",
       "0      0       NaN       NaN        NaN        NaN        NaN        NaN   \n",
       "1      1       NaN       NaN        NaN        NaN        NaN        NaN   \n",
       "2      2       NaN       NaN        NaN        NaN        NaN        NaN   \n",
       "3      3       NaN       NaN        NaN        NaN        NaN        NaN   \n",
       "4      4       NaN       NaN        NaN        NaN        NaN        NaN   \n",
       "\n",
       "   Talon_x  Talon_y  Meta_x  Meta_y  \n",
       "0      NaN      NaN     NaN     NaN  \n",
       "1      NaN      NaN     NaN     NaN  \n",
       "2      NaN      NaN     NaN     NaN  \n",
       "3      NaN      NaN     NaN     NaN  \n",
       "4      NaN      NaN     NaN     NaN  "
      ]
     },
     "execution_count": 91,
     "metadata": {},
     "output_type": "execute_result"
    }
   ],
   "source": [
    "MarcadoresDigit = pd.read_table(unidadDisco+carpetaOriginal+nomMarcadoresDigit , header= 0, sep=separador, na_values=[' '])\n",
    "MarcadoresDigit.head()"
   ]
  },
  {
   "cell_type": "markdown",
   "metadata": {},
   "source": [
    "Como después nos vendrá bien, nos quedamos con los nombres de los marcadores"
   ]
  },
  {
   "cell_type": "code",
   "execution_count": 92,
   "metadata": {},
   "outputs": [
    {
     "data": {
      "text/plain": [
       "['Cadera', 'Rodilla', 'Tobillo', 'Talon', 'Meta']"
      ]
     },
     "execution_count": 92,
     "metadata": {},
     "output_type": "execute_result"
    }
   ],
   "source": [
    "nomMarcadores = [x[:-2] for x in MarcadoresDigit.iloc[:, 1::2].columns] #se queda con el nombre de los marcadores\n",
    "nomMarcadores"
   ]
  },
  {
   "cell_type": "markdown",
   "metadata": {},
   "source": [
    "Para poder operar con las funciones del DLT, se quita la primera columna (frames) y se deja como array de numpy."
   ]
  },
  {
   "cell_type": "code",
   "execution_count": 93,
   "metadata": {},
   "outputs": [],
   "source": [
    "MarcadoresDigit = MarcadoresDigit.iloc[:, 1:].values #quita columna frames y lo hace numpy"
   ]
  },
  {
   "cell_type": "markdown",
   "metadata": {},
   "source": [
    "Para ver las coordenadas de los marcadores digitalizados, en series temporales y como plano:"
   ]
  },
  {
   "cell_type": "code",
   "execution_count": 94,
   "metadata": {},
   "outputs": [
    {
     "data": {
      "image/png": "[encoded data removed]",
      "text/plain": [
       "<Figure size 720x360 with 2 Axes>"
      ]
     },
     "metadata": {},
     "output_type": "display_data"
    }
   ],
   "source": [
    "fig, ax = plt.subplots(1, 2, figsize=(10,5), gridspec_kw = {'width_ratios':[2.5, 1.5]})\n",
    "ax[0].plot(MarcadoresDigit)\n",
    "\n",
    "for h in range(0, MarcadoresDigit.shape[1], 2):\n",
    "    ax[1].plot(MarcadoresDigit[:,h], MarcadoresDigit[:,h+1], alpha=0.6, label='{}'.format(nomMarcadores[h//2]))\n",
    "ax[1].legend()\n",
    "\n",
    "plt.suptitle('Coordenadas de digitalización de los marcadores')\n",
    "plt.show()"
   ]
  },
  {
   "cell_type": "markdown",
   "metadata": {},
   "source": [
    "## Empieza a calcular el DLT"
   ]
  },
  {
   "cell_type": "code",
   "execution_count": 95,
   "metadata": {},
   "outputs": [],
   "source": [
    "nd=2 #nº dimensiones\n",
    "nc=1 #nº cámaras\n",
    "\n",
    "#calcula parámetros de calibración\n",
    "L1, err1 = DLTcalib(nd, MCReal, MCDigit)\n",
    "\n",
    "#Reconstruye las coordenadas punto por punto\n",
    "MarcadoresReconst = np.zeros((len(MarcadoresDigit), MarcadoresDigit.shape[1]))\n",
    "for h in range(0, MarcadoresDigit.shape[1], 2):\n",
    "    for i in range(len(MarcadoresDigit)):\n",
    "        MarcadoresReconst[i, h:h+2] = DLTrecon( nd, nc, L1, MarcadoresDigit[i, h:h+2])"
   ]
  },
  {
   "cell_type": "markdown",
   "metadata": {},
   "source": [
    "Finalmente muestra las coordenadas reconstruidas junto con los marcadores reales del marco de calibración. "
   ]
  },
  {
   "cell_type": "code",
   "execution_count": 96,
   "metadata": {},
   "outputs": [
    {
     "data": {
      "image/png": "[encoded data removed]",
      "text/plain": [
       "<Figure size 432x288 with 1 Axes>"
      ]
     },
     "metadata": {},
     "output_type": "display_data"
    }
   ],
   "source": [
    "fig, ax = plt.subplots() \n",
    "plt.plot(MCReal[:,0], MCReal[:,1], 'bo', alpha=0.6)\n",
    "for h in range(0, MarcadoresReconst.shape[1], 2):\n",
    "    plt.plot(MarcadoresReconst[:,h], MarcadoresReconst[:,h+1], alpha=0.6, label='{}'.format(nomMarcadores[h//2]))\n",
    "plt.legend()\n",
    "plt.title('Comparación MC real y reconstruido')\n",
    "plt.show()"
   ]
  }
 ],
 "metadata": {
  "kernelspec": {
   "display_name": "Python 3",
   "language": "python",
   "name": "python3"
  },
  "language_info": {
   "codemirror_mode": {
    "name": "ipython",
    "version": 3
   },
   "file_extension": ".py",
   "mimetype": "text/x-python",
   "name": "python",
   "nbconvert_exporter": "python",
   "pygments_lexer": "ipython3",
   "version": "3.6.5"
  }
 },
 "nbformat": 4,
 "nbformat_minor": 2
}
